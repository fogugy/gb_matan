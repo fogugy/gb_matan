{
 "cells": [
  {
   "cell_type": "markdown",
   "metadata": {},
   "source": [
    "#### Задание 8:\n",
    "Представьте в виде несократимой рациональной дроби: 0.(216)\n",
    "\n",
    "a = 0.(216)\n",
    "\n",
    "1000*a = 216.(216)\n",
    "\n",
    "1000*a = 216 + a\n",
    "\n",
    "a = 216/999 = 8/37"
   ]
  },
  {
   "cell_type": "markdown",
   "metadata": {},
   "source": [
    "#### Задание 9:\n",
    "Представьте в виде несократимой рациональной дроби: 1.0(01)\n",
    "\n",
    "a - 1 = 0.0(01)\n",
    "\n",
    "1000*(a-1) = 1.(01) = 1 + (a-1)*10\n",
    "\n",
    "990*(a-1) = 1\n",
    "\n",
    "990*a = 991\n",
    "\n",
    "a = 1 1/990"
   ]
  },
  {
   "cell_type": "markdown",
   "metadata": {},
   "source": [
    "#### Задание 10:\n",
    "##### Представьте 1 в виде суммы трех рациональных дробей с разными знаменателями и числителем равным 1.\n",
    "\n",
    "1 = 1/a + 1/b + 1/c\n",
    "\n",
    "1 = (bc+ac+ab)/abc\n",
    "\n",
    "abc = bc + ac + ab"
   ]
  },
  {
   "cell_type": "code",
   "execution_count": 1,
   "metadata": {},
   "outputs": [
    {
     "name": "stdout",
     "output_type": "stream",
     "text": [
      "2 3 6 => 0.9999999999999999\n"
     ]
    }
   ],
   "source": [
    "for a in range(2, 100):\n",
    "    for b in range(a, 100):\n",
    "        for c in range(b, 100):\n",
    "            if a*b*c == b*c + a*c + a*b and a != b != c != a:\n",
    "                print(a, b, c, '=>', 1/a + 1/b + 1/c)"
   ]
  },
  {
   "cell_type": "markdown",
   "metadata": {},
   "source": [
    "##### Ответ: 1 = 1/2 + 1/3 + 1/6"
   ]
  },
  {
   "cell_type": "markdown",
   "metadata": {},
   "source": [
    "#### Задание 11:\n",
    "##### Представьте 1 в виде суммы 6ти рациональных дробей с разными знаменателями и числителем равным 1.\n",
    "метод тот же =)\n",
    "\n",
    "##### Ответ: 1 = 1/2 + 1/3 + 1/12 + 1/30 + 1/36 + 1/45"
   ]
  },
  {
   "cell_type": "markdown",
   "metadata": {},
   "source": [
    "#### Задание 12:\n",
    "Найдите значение предела:\n",
    "![task3.3.12](./img/hw3.3.task12.png)"
   ]
  },
  {
   "cell_type": "markdown",
   "metadata": {},
   "source": [
    "Очевидно предел равен 0"
   ]
  },
  {
   "cell_type": "markdown",
   "metadata": {},
   "source": [
    "#### Задание 13:\n",
    "![task3.3.13](./img/hw3.3.task13.jpg)"
   ]
  }
 ],
 "metadata": {
  "kernelspec": {
   "display_name": "Python 3",
   "language": "python",
   "name": "python3"
  },
  "language_info": {
   "codemirror_mode": {
    "name": "ipython",
    "version": 3
   },
   "file_extension": ".py",
   "mimetype": "text/x-python",
   "name": "python",
   "nbconvert_exporter": "python",
   "pygments_lexer": "ipython3",
   "version": "3.7.0"
  }
 },
 "nbformat": 4,
 "nbformat_minor": 2
}
