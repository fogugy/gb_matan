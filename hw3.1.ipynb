{
 "cells": [
  {
   "cell_type": "markdown",
   "metadata": {},
   "source": [
    "#### Задание 1:\n",
    "![hw3.task1](./img/hw3.1.task1.jpg)"
   ]
  },
  {
   "cell_type": "markdown",
   "metadata": {},
   "source": [
    "#### Задание 2:\n",
    "![hw3.task2](./img/hw3.1.task2.jpg)"
   ]
  },
  {
   "cell_type": "markdown",
   "metadata": {},
   "source": [
    "#### Задание 3:\n",
    "Сформулируйте словесно высказывание:\n",
    "\n",
    "А: сегодня светит солнце; \n",
    "\n",
    "В: сегодня сыро; \n",
    "\n",
    "С: я поеду на дачу. \n",
    "\n",
    "![hw3.task3](./img/hw3.1.task3.png)"
   ]
  },
  {
   "cell_type": "markdown",
   "metadata": {},
   "source": [
    "Если сегодня не будет светить солнце или будет сыро, то я не поеду на дачу."
   ]
  },
  {
   "cell_type": "markdown",
   "metadata": {},
   "source": [
    "#### Задание 4:\n",
    "Сформулируйте словесно высказывание:\n",
    "![hw3.task4](./img/hw3.1.task4.png)"
   ]
  },
  {
   "cell_type": "markdown",
   "metadata": {},
   "source": [
    "Если я поеду на дачу, значит сегодня светит солнце или сегодня не сыро. "
   ]
  }
 ],
 "metadata": {
  "kernelspec": {
   "display_name": "Python 3",
   "language": "python",
   "name": "python3"
  },
  "language_info": {
   "codemirror_mode": {
    "name": "ipython",
    "version": 3
   },
   "file_extension": ".py",
   "mimetype": "text/x-python",
   "name": "python",
   "nbconvert_exporter": "python",
   "pygments_lexer": "ipython3",
   "version": "3.7.0"
  }
 },
 "nbformat": 4,
 "nbformat_minor": 2
}
