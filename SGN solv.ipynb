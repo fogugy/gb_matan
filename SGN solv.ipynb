{
 "cells": [
  {
   "cell_type": "code",
   "execution_count": 4,
   "metadata": {},
   "outputs": [
    {
     "name": "stdout",
     "output_type": "stream",
     "text": [
      "0.9095937669761998 0.17095782316506905\n"
     ]
    },
    {
     "data": {
      "image/png": "[encoded data removed]",
      "text/plain": [
       "<Figure size 432x288 with 1 Axes>"
      ]
     },
     "metadata": {
      "needs_background": "light"
     },
     "output_type": "display_data"
    }
   ],
   "source": [
    "import numpy as np\n",
    "import matplotlib.pyplot as plt\n",
    "\n",
    "\n",
    "# Задаем рандомное распределение точек\n",
    "x = np.random.uniform(-8, 8, 200)\n",
    "a = np.random.uniform(0.5, 1.5, 200)\n",
    "b = np.random.uniform(-1, 1, 200)\n",
    "\n",
    "f = 1/(1+np.exp(-a*x-b))\n",
    "plt.plot(x,f, marker=\"o\", ls=\"\")\n",
    "\n",
    "\n",
    "from scipy.optimize import fsolve, broyden1\n",
    "import math\n",
    "\n",
    "def equations(p):\n",
    "    A, B = p\n",
    "    # Это заранее найденные производные от (y-f(x))**2 по переменным a и b\n",
    "    return ((-2*x*np.exp(-A*x-B)*(f-1/(1+np.exp(-A*x-B)))/(1+np.exp(-A*x-B))**2).sum(), (-2*np.exp(-A*x-B)*(f-1/(1+np.exp(-A*x-B)))/(1+np.exp(-A*x-B))**2).sum())\n",
    "\n",
    "# Численное решение нелинечной системы уравнений\n",
    "A, B =  fsolve(equations, (1, 1))\n",
    "print (A, B)\n",
    "#A, B =  broyden1(equations, (1, 1))\n",
    "#print (A, B)\n",
    "\n",
    "x = np.linspace(-8, 8, 200)\n",
    "plt.plot(x, 1/(1+np.exp(-A*x-B)))\n",
    "\n",
    "\n",
    "plt.show()\n",
    "\n"
   ]
  },
  {
   "cell_type": "code",
   "execution_count": null,
   "metadata": {},
   "outputs": [],
   "source": []
  },
  {
   "cell_type": "code",
   "execution_count": null,
   "metadata": {},
   "outputs": [],
   "source": []
  },
  {
   "cell_type": "code",
   "execution_count": null,
   "metadata": {
    "scrolled": true
   },
   "outputs": [],
   "source": []
  },
  {
   "cell_type": "code",
   "execution_count": null,
   "metadata": {},
   "outputs": [],
   "source": []
  },
  {
   "cell_type": "code",
   "execution_count": null,
   "metadata": {},
   "outputs": [],
   "source": []
  },
  {
   "cell_type": "code",
   "execution_count": null,
   "metadata": {},
   "outputs": [],
   "source": []
  },
  {
   "cell_type": "code",
   "execution_count": null,
   "metadata": {},
   "outputs": [],
   "source": []
  },
  {
   "cell_type": "code",
   "execution_count": null,
   "metadata": {},
   "outputs": [],
   "source": []
  },
  {
   "cell_type": "code",
   "execution_count": null,
   "metadata": {},
   "outputs": [],
   "source": []
  },
  {
   "cell_type": "code",
   "execution_count": null,
   "metadata": {},
   "outputs": [],
   "source": []
  }
 ],
 "metadata": {
  "kernelspec": {
   "display_name": "Python 3",
   "language": "python",
   "name": "python3"
  },
  "language_info": {
   "codemirror_mode": {
    "name": "ipython",
    "version": 3
   },
   "file_extension": ".py",
   "mimetype": "text/x-python",
   "name": "python",
   "nbconvert_exporter": "python",
   "pygments_lexer": "ipython3",
   "version": "3.7.0"
  }
 },
 "nbformat": 4,
 "nbformat_minor": 2
}
