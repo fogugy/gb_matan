{
 "cells": [
  {
   "cell_type": "markdown",
   "metadata": {},
   "source": [
    "![1](./img/hw5.task1.jpg)\n",
    "![2](./img/hw5.task2.jpg)\n",
    "![3](./img/hw5.task3.jpg)\n",
    "![4](./img/hw5.task4.jpg)\n",
    "![5](./img/hw5.task5.jpg)\n",
    "![7](./img/hw5.task7.jpg)\n",
    "![8](./img/hw5.task8.jpg)\n",
    "![9](./img/hw5.task9.jpg)\n",
    "![11](./img/hw5.task11.jpg)"
   ]
  }
 ],
 "metadata": {
  "kernelspec": {
   "display_name": "Python 3",
   "language": "python",
   "name": "python3"
  },
  "language_info": {
   "codemirror_mode": {
    "name": "ipython",
    "version": 3
   },
   "file_extension": ".py",
   "mimetype": "text/x-python",
   "name": "python",
   "nbconvert_exporter": "python",
   "pygments_lexer": "ipython3",
   "version": "3.7.0"
  }
 },
 "nbformat": 4,
 "nbformat_minor": 2
}
