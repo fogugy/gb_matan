{
 "cells": [
  {
   "cell_type": "markdown",
   "metadata": {},
   "source": [
    "Добрый день.\n",
    "\n",
    "Текущий уровень математики - старшая школа и отрываочные воспоминания о матане, кфкп..из университета. Учился по специальности \"ядерная физика\". Кануло 10 лет =)\n",
    "\n",
    "Хотелось бы воскресить эти знания, и научиться их применять для текущей специальности."
   ]
  }
 ],
 "metadata": {
  "kernelspec": {
   "display_name": "Python 3",
   "language": "python",
   "name": "python3"
  },
  "language_info": {
   "codemirror_mode": {
    "name": "ipython",
    "version": 3
   },
   "file_extension": ".py",
   "mimetype": "text/x-python",
   "name": "python",
   "nbconvert_exporter": "python",
   "pygments_lexer": "ipython3",
   "version": "3.7.3"
  }
 },
 "nbformat": 4,
 "nbformat_minor": 2
}
