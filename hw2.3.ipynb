{
 "cells": [
  {
   "cell_type": "markdown",
   "metadata": {},
   "source": [
    "#### Задание 1:\n",
    "Даны 4 последовательности."
   ]
  },
  {
   "cell_type": "markdown",
   "metadata": {},
   "source": [
    "![task1](img/hw2.3.task1.PNG)"
   ]
  },
  {
   "cell_type": "code",
   "execution_count": 1,
   "metadata": {},
   "outputs": [],
   "source": [
    "def a(n):\n",
    "    return 2**n - n"
   ]
  },
  {
   "cell_type": "code",
   "execution_count": 2,
   "metadata": {},
   "outputs": [],
   "source": [
    "def b(n):\n",
    "    return 1/(1-n)"
   ]
  },
  {
   "cell_type": "code",
   "execution_count": 3,
   "metadata": {},
   "outputs": [],
   "source": [
    "def c(n):\n",
    "    return -1*1**n + (2*n)**(1/2)"
   ]
  },
  {
   "cell_type": "code",
   "execution_count": 4,
   "metadata": {},
   "outputs": [],
   "source": [
    "def d(n):\n",
    "    return (-1)**(2*n) + 1/n**2"
   ]
  },
  {
   "cell_type": "code",
   "execution_count": 5,
   "metadata": {},
   "outputs": [],
   "source": [
    "def getList(l, n):\n",
    "    return list(map(lambda x: l(x), n))"
   ]
  },
  {
   "cell_type": "code",
   "execution_count": 6,
   "metadata": {
    "scrolled": false
   },
   "outputs": [
    {
     "data": {
      "text/plain": [
       "([1, 2, 5, 12, 27, 58, 121, 248, 503],\n",
       " [-1.0,\n",
       "  -0.5,\n",
       "  -0.3333333333333333,\n",
       "  -0.25,\n",
       "  -0.2,\n",
       "  -0.16666666666666666,\n",
       "  -0.14285714285714285,\n",
       "  -0.125],\n",
       " [0.41421356237309515,\n",
       "  1.0,\n",
       "  1.4494897427831779,\n",
       "  1.8284271247461903,\n",
       "  2.1622776601683795,\n",
       "  2.4641016151377544,\n",
       "  2.7416573867739413,\n",
       "  3.0,\n",
       "  3.2426406871192848],\n",
       " [2.0,\n",
       "  1.25,\n",
       "  1.1111111111111112,\n",
       "  1.0625,\n",
       "  1.04,\n",
       "  1.0277777777777777,\n",
       "  1.0204081632653061,\n",
       "  1.015625,\n",
       "  1.0123456790123457])"
      ]
     },
     "execution_count": 6,
     "metadata": {},
     "output_type": "execute_result"
    }
   ],
   "source": [
    "an = getList(a, list(range(1, 10)))\n",
    "bn = getList(b, list(range(2, 10)))\n",
    "cn = getList(c, list(range(1, 10)))\n",
    "dn = getList(d, list(range(1, 10)))\n",
    "\n",
    "an, bn, cn, dn"
   ]
  },
  {
   "cell_type": "markdown",
   "metadata": {},
   "source": [
    "#### 1.a исследовать их на монотонность"
   ]
  },
  {
   "cell_type": "markdown",
   "metadata": {},
   "source": [
    "Последовательность  называется монотонно возрастающей, если для любого n, x(n) < x(n+1)\n",
    "\n",
    "Последовательность  называется монотонно убывающей, если для любого n, x(n) > x(n+1)\n",
    "\n",
    "{An}: возрастающая\n",
    "\n",
    "{Bn}: возрастающая\n",
    "\n",
    "{Cn}: возрастающая\n",
    "\n",
    "{Dn}: убывающая"
   ]
  },
  {
   "cell_type": "markdown",
   "metadata": {},
   "source": [
    "#### 1.б исследовать на ограниченность\n",
    "\n",
    "Последовательность называется ограниченной сверху, если существует число M такое, что каждый элемент рассматриваемой последовательности удовлетворяет неравенству Xn <= M.\n",
    "\n",
    "Последовательность называется ограниченной снизу, если существует число m такое, что каждый элемент заданной последовательности удовлетворяет неравенству Xn >= m"
   ]
  },
  {
   "cell_type": "markdown",
   "metadata": {},
   "source": [
    "{An}: ограничена снизу m = 1\n",
    "\n",
    "{Bn}: ограничена снизу m = -1\n",
    "\n",
    "{Cn}: ограничена снизу m = 0.41421\n",
    "\n",
    "{Dn}: ограничена сверху M = 2"
   ]
  },
  {
   "cell_type": "markdown",
   "metadata": {},
   "source": [
    "#### 1.c найти пятый по счету член."
   ]
  },
  {
   "cell_type": "code",
   "execution_count": 7,
   "metadata": {},
   "outputs": [
    {
     "name": "stdout",
     "output_type": "stream",
     "text": [
      "A(5): 27\n",
      "B(5): -0.2\n",
      "C(5): 2.1622776601683795\n",
      "D(5): 1.04\n"
     ]
    }
   ],
   "source": [
    "print('A(5):',a(5))\n",
    "print('B(5):',b(6))\n",
    "print('C(5):',c(5))\n",
    "print('D(5):',d(5))"
   ]
  },
  {
   "cell_type": "markdown",
   "metadata": {},
   "source": [
    "#### Задание 2:\n",
    "Найти 12-й член заданной неявно последовательности"
   ]
  },
  {
   "cell_type": "markdown",
   "metadata": {},
   "source": [
    "![task2](img/hw2.3.task2.PNG)"
   ]
  },
  {
   "cell_type": "code",
   "execution_count": 8,
   "metadata": {},
   "outputs": [],
   "source": [
    "def a(n):\n",
    "    if n == 1:\n",
    "        return 128\n",
    "    else:\n",
    "        return a(n-1) + 6"
   ]
  },
  {
   "cell_type": "code",
   "execution_count": 9,
   "metadata": {},
   "outputs": [
    {
     "data": {
      "text/plain": [
       "194"
      ]
     },
     "execution_count": 9,
     "metadata": {},
     "output_type": "execute_result"
    }
   ],
   "source": [
    "a(12)"
   ]
  },
  {
   "cell_type": "markdown",
   "metadata": {},
   "source": [
    "#### Задание 3:\n",
    "На языке Python предложить алгоритм вычисляющий численно предел с точностью ε=1/10**7\n",
    "\n",
    "![task3](img/hw2.3.task3.PNG)"
   ]
  },
  {
   "cell_type": "code",
   "execution_count": 10,
   "metadata": {},
   "outputs": [
    {
     "name": "stdout",
     "output_type": "stream",
     "text": [
      "ε 1e-07\n",
      "2000 2e-07\n",
      "2100 0.0000028\n",
      "2200 0.0000027\n",
      "2300 0.0000024\n",
      "2400 0.0000022\n",
      "2500 0.0000020\n",
      "2600 0.0000019\n",
      "2700 0.0000018\n"
     ]
    },
    {
     "ename": "KeyboardInterrupt",
     "evalue": "",
     "output_type": "error",
     "traceback": [
      "\u001b[1;31m---------------------------------------------------------------------------\u001b[0m",
      "\u001b[1;31mKeyboardInterrupt\u001b[0m                         Traceback (most recent call last)",
      "\u001b[1;32m<ipython-input-10-3499ad455f00>\u001b[0m in \u001b[0;36m<module>\u001b[1;34m\u001b[0m\n\u001b[0;32m     21\u001b[0m     \u001b[1;32mwhile\u001b[0m \u001b[0mabs\u001b[0m\u001b[1;33m(\u001b[0m\u001b[0mseq_cur\u001b[0m \u001b[1;33m-\u001b[0m \u001b[0mseq_prev\u001b[0m\u001b[1;33m)\u001b[0m \u001b[1;33m>\u001b[0m \u001b[0mε\u001b[0m\u001b[1;33m:\u001b[0m\u001b[1;33m\u001b[0m\u001b[1;33m\u001b[0m\u001b[0m\n\u001b[0;32m     22\u001b[0m         \u001b[0mprint\u001b[0m\u001b[1;33m(\u001b[0m\u001b[0mn\u001b[0m\u001b[1;33m,\u001b[0m \u001b[0mseq_cur\u001b[0m \u001b[1;33m-\u001b[0m \u001b[0mseq_prev\u001b[0m\u001b[1;33m)\u001b[0m\u001b[1;33m\u001b[0m\u001b[1;33m\u001b[0m\u001b[0m\n\u001b[1;32m---> 23\u001b[1;33m         \u001b[0mseq_cur\u001b[0m \u001b[1;33m=\u001b[0m \u001b[0mseq\u001b[0m\u001b[1;33m(\u001b[0m\u001b[0mn\u001b[0m\u001b[1;33m)\u001b[0m\u001b[1;33m\u001b[0m\u001b[1;33m\u001b[0m\u001b[0m\n\u001b[0m\u001b[0;32m     24\u001b[0m         \u001b[0mseq_prev\u001b[0m \u001b[1;33m=\u001b[0m \u001b[0mseq\u001b[0m\u001b[1;33m(\u001b[0m\u001b[0mn\u001b[0m\u001b[1;33m-\u001b[0m\u001b[1;36m1\u001b[0m\u001b[1;33m)\u001b[0m\u001b[1;33m\u001b[0m\u001b[1;33m\u001b[0m\u001b[0m\n\u001b[0;32m     25\u001b[0m         \u001b[0mn\u001b[0m\u001b[1;33m+=\u001b[0m\u001b[0mn_delta\u001b[0m\u001b[1;33m\u001b[0m\u001b[1;33m\u001b[0m\u001b[0m\n",
      "\u001b[1;32m<ipython-input-10-3499ad455f00>\u001b[0m in \u001b[0;36mseq\u001b[1;34m(n)\u001b[0m\n\u001b[0;32m     10\u001b[0m     \u001b[1;32mdef\u001b[0m \u001b[0mseq\u001b[0m\u001b[1;33m(\u001b[0m\u001b[0mn\u001b[0m\u001b[1;33m)\u001b[0m\u001b[1;33m:\u001b[0m\u001b[1;33m\u001b[0m\u001b[1;33m\u001b[0m\u001b[0m\n\u001b[0;32m     11\u001b[0m         \u001b[0md\u001b[0m \u001b[1;33m=\u001b[0m \u001b[0mctx\u001b[0m\u001b[1;33m.\u001b[0m\u001b[0mpower\u001b[0m\u001b[1;33m(\u001b[0m\u001b[0mfct\u001b[0m\u001b[1;33m(\u001b[0m\u001b[0mn\u001b[0m\u001b[1;33m)\u001b[0m\u001b[1;33m,\u001b[0m \u001b[0mDecimal\u001b[0m\u001b[1;33m(\u001b[0m\u001b[1;36m1\u001b[0m\u001b[1;33m/\u001b[0m\u001b[0mn\u001b[0m\u001b[1;33m)\u001b[0m\u001b[1;33m)\u001b[0m\u001b[1;33m\u001b[0m\u001b[1;33m\u001b[0m\u001b[0m\n\u001b[1;32m---> 12\u001b[1;33m         \u001b[1;32mreturn\u001b[0m \u001b[0mn\u001b[0m\u001b[1;33m/\u001b[0m\u001b[0md\u001b[0m\u001b[1;33m\u001b[0m\u001b[1;33m\u001b[0m\u001b[0m\n\u001b[0m\u001b[0;32m     13\u001b[0m \u001b[1;33m\u001b[0m\u001b[0m\n\u001b[0;32m     14\u001b[0m     \u001b[0mε\u001b[0m\u001b[1;33m=\u001b[0m\u001b[1;36m1\u001b[0m\u001b[1;33m/\u001b[0m\u001b[1;36m10\u001b[0m\u001b[1;33m**\u001b[0m\u001b[1;36m7\u001b[0m\u001b[1;33m\u001b[0m\u001b[1;33m\u001b[0m\u001b[0m\n",
      "\u001b[1;31mKeyboardInterrupt\u001b[0m: "
     ]
    }
   ],
   "source": [
    "from math import factorial as fct\n",
    "from decimal import *\n",
    "\n",
    "n_start = 2000\n",
    "n_delta = 100\n",
    "\n",
    "with localcontext() as ctx:\n",
    "    ctx.prec = 8\n",
    "    \n",
    "    def seq(n):\n",
    "        d = ctx.power(fct(n), Decimal(1/n))\n",
    "        return n/d\n",
    "    \n",
    "    ε=1/10**7\n",
    "    seq_cur = 0\n",
    "    seq_prev = seq_cur - 2*ε\n",
    "    n = n_start\n",
    "    \n",
    "    print('ε', ε)\n",
    "\n",
    "    while abs(seq_cur - seq_prev) > ε:\n",
    "        print(n, seq_cur - seq_prev)\n",
    "        seq_cur = seq(n)\n",
    "        seq_prev = seq(n-1)\n",
    "        n+=n_delta\n",
    "\n",
    "    print(n, seq_cur)\n"
   ]
  },
  {
   "cell_type": "markdown",
   "metadata": {},
   "source": [
    "3 минуты ждал, не дождался окончания расчетов"
   ]
  }
 ],
 "metadata": {
  "kernelspec": {
   "display_name": "Python 3",
   "language": "python",
   "name": "python3"
  },
  "language_info": {
   "codemirror_mode": {
    "name": "ipython",
    "version": 3
   },
   "file_extension": ".py",
   "mimetype": "text/x-python",
   "name": "python",
   "nbconvert_exporter": "python",
   "pygments_lexer": "ipython3",
   "version": "3.7.3"
  }
 },
 "nbformat": 4,
 "nbformat_minor": 2
}
