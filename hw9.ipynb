{
 "cells": [
  {
   "cell_type": "code",
   "execution_count": 1,
   "metadata": {},
   "outputs": [],
   "source": [
    "from scipy.optimize import fsolve\n",
    "import matplotlib.pyplot as plt\n",
    "import math\n",
    "import numpy as np\n",
    "%matplotlib inline"
   ]
  },
  {
   "cell_type": "markdown",
   "metadata": {},
   "source": [
    "![1](./img/hw9.task1.jpg)\n",
    "![2](./img/hw9.task2.jpg)"
   ]
  },
  {
   "cell_type": "markdown",
   "metadata": {},
   "source": [
    "#### Задание 3:"
   ]
  },
  {
   "cell_type": "code",
   "execution_count": 2,
   "metadata": {},
   "outputs": [],
   "source": [
    "def test(x, y, boundary=10**(-8)):\n",
    "    x2 = x**2\n",
    "    x3 = x**3\n",
    "    y2 = y**2\n",
    "    y3 = y**3\n",
    "    r1 = x2-y2+3*x*y3-2*x2*y2+2*x-3*y-5\n",
    "    r2 = 3*y3-2*x2+2*y*x**3-5*x2*y2+5\n",
    "    return abs(r1) < boundary and abs(r2) < boundary"
   ]
  },
  {
   "cell_type": "code",
   "execution_count": 3,
   "metadata": {},
   "outputs": [
    {
     "name": "stdout",
     "output_type": "stream",
     "text": [
      "1.375687140388597 -0.17475798540737905\n"
     ]
    }
   ],
   "source": [
    "def equations(p):\n",
    "    x, y = p\n",
    "    x2 = x**2\n",
    "    x3 = x**3\n",
    "    y2 = y**2\n",
    "    y3 = y**3\n",
    "    return (x2-y2+3*x*y3-2*x2*y2+2*x-3*y-5, 3*y3-2*x2+2*y*x**3-5*x2*y2+5)\n",
    "\n",
    "x, y =  fsolve(equations, (1, 1))\n",
    "print (x, y)\n",
    "test(x, y);"
   ]
  },
  {
   "cell_type": "markdown",
   "metadata": {},
   "source": [
    "#### Задание 4:"
   ]
  },
  {
   "cell_type": "code",
   "execution_count": 20,
   "metadata": {
    "scrolled": false
   },
   "outputs": [
    {
     "name": "stdout",
     "output_type": "stream",
     "text": [
      "Корней найдено: 5\n",
      "{(2.49435, 0.70831), (1.37568, -0.17475), (2.21775, 0.61019), (1.2733, 1.66203), (-3.65307, -0.27476)}\n"
     ]
    }
   ],
   "source": [
    "res = set()\n",
    "xstep = 5\n",
    "ystep = 5\n",
    "a = 130\n",
    "\n",
    "def round_to(value, digit=5):\n",
    "    return int(value*10**digit)/10**digit\n",
    "\n",
    "for x_start in np.arange(-a, a, xstep):\n",
    "    for y_start in np.arange(-a, a, ystep):\n",
    "        (x, y), info, ier, mesg = fsolve(equations, (x_start, y_start), full_output=True)\n",
    "        if ier == 1:\n",
    "            res.add((round_to(x), round_to(y)))\n",
    "        \n",
    "print('Корней найдено:', len(res))\n",
    "print(res)"
   ]
  },
  {
   "cell_type": "code",
   "execution_count": null,
   "metadata": {},
   "outputs": [],
   "source": []
  }
 ],
 "metadata": {
  "kernelspec": {
   "display_name": "Python 3",
   "language": "python",
   "name": "python3"
  },
  "language_info": {
   "codemirror_mode": {
    "name": "ipython",
    "version": 3
   },
   "file_extension": ".py",
   "mimetype": "text/x-python",
   "name": "python",
   "nbconvert_exporter": "python",
   "pygments_lexer": "ipython3",
   "version": "3.7.3"
  }
 },
 "nbformat": 4,
 "nbformat_minor": 2
}
