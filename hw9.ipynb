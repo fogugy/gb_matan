{
 "cells": [
  {
   "cell_type": "code",
   "execution_count": 1,
   "metadata": {},
   "outputs": [],
   "source": [
    "from scipy.optimize import fsolve\n",
    "import matplotlib.pyplot as plt\n",
    "import math\n",
    "import numpy as np\n",
    "%matplotlib inline"
   ]
  },
  {
   "cell_type": "markdown",
   "metadata": {},
   "source": [
    "![1](./img/hw9.task1.jpg)\n",
    "![2](./img/hw9.task2.jpg)"
   ]
  },
  {
   "cell_type": "markdown",
   "metadata": {},
   "source": [
    "#### Задание 3:"
   ]
  },
  {
   "cell_type": "code",
   "execution_count": 2,
   "metadata": {},
   "outputs": [],
   "source": [
    "def test(x, y, boundary=10**(-8)):\n",
    "    x2 = x**2\n",
    "    x3 = x**3\n",
    "    y2 = y**2\n",
    "    y3 = y**3\n",
    "    r1 = x2-y2+3*x*y3-2*x2*y2+2*x-3*y-5\n",
    "    r2 = 3*y3-2*x2+2*y*x**3-5*x2*y2+5\n",
    "    return abs(r1) < boundary and abs(r2) < boundary"
   ]
  },
  {
   "cell_type": "code",
   "execution_count": 3,
   "metadata": {},
   "outputs": [
    {
     "name": "stdout",
     "output_type": "stream",
     "text": [
      "1.375687140388597 -0.17475798540737905\n"
     ]
    }
   ],
   "source": [
    "def equations(p):\n",
    "    x, y = p\n",
    "    x2 = x**2\n",
    "    x3 = x**3\n",
    "    y2 = y**2\n",
    "    y3 = y**3\n",
    "    return (x2-y2+3*x*y3-2*x2*y2+2*x-3*y-5, 3*y3-2*x2+2*y*x**3-5*x2*y2+5)\n",
    "\n",
    "x, y =  fsolve(equations, (1, 1))\n",
    "print (x, y)\n",
    "test(x, y);"
   ]
  },
  {
   "cell_type": "markdown",
   "metadata": {},
   "source": [
    "#### Задание 4:"
   ]
  },
  {
   "cell_type": "code",
   "execution_count": 4,
   "metadata": {
    "scrolled": false
   },
   "outputs": [
    {
     "name": "stdout",
     "output_type": "stream",
     "text": [
      "Корней найдено: 29\n",
      "{(1.2733020645602786, 1.6620391224325701), (1.273302064528565, 1.6620391224278317), (1.2733020645286157, 1.6620391224279434), (1.2733020645285578, 1.6620391224278548), (2.494356537909534, 0.7083175224860467), (-3.653079963570428, -0.2747634192680433), (1.375687140383446, -0.17475798541315246), (1.3756871403830917, -0.1747579854135774), (1.3756871403834454, -0.1747579854131541), (1.3756871403838602, -0.17475798541222773), (-3.653079963570546, -0.27476341926803377), (2.217753638811234, 0.6101939797508027), (2.217753638792804, 0.6101939797430417), (-3.6530799635706224, -0.27476341926811765), (-3.6530799635468, -0.27476341919491126), (-3.6530799635709075, -0.2747634192679503), (-3.6530799635704603, -0.2747634192680464), (1.3756871403854642, -0.1747579854105919), (1.3756871403725885, -0.17475798542562826), (-3.6530799635722357, -0.2747634192672851), (-3.6530799635764826, -0.2747634192664015), (1.3756871403833661, -0.17475798541323825), (1.3756871403414404, -0.1747579854595028), (1.3756871403860578, -0.17475798540700502), (1.375687140379588, -0.17475798541530854), (1.3756871403851472, -0.17475798541096393), (1.3756871403834154, -0.17475798541321816), (-3.6530799635739863, -0.2747634192676191), (1.3756871403834448, -0.17475798541315482)}\n"
     ]
    }
   ],
   "source": [
    "res = set()\n",
    "xstep = 30\n",
    "ystep = 30\n",
    "a = 120\n",
    "\n",
    "def round_to(value, digit=10):\n",
    "    return int(value*10**digit)/10**digit\n",
    "\n",
    "for x_start in np.arange(-a, a, xstep):\n",
    "    for y_start in np.arange(-a, a, ystep):\n",
    "        (x, y), info, ier, mesg = fsolve(equations, (x_start, y_start), full_output=True)\n",
    "        if ier == 1:\n",
    "            res.add((x, y))\n",
    "        \n",
    "print('Корней найдено:', len(res))\n",
    "print(res)"
   ]
  },
  {
   "cell_type": "code",
   "execution_count": null,
   "metadata": {},
   "outputs": [],
   "source": []
  }
 ],
 "metadata": {
  "kernelspec": {
   "display_name": "Python 3",
   "language": "python",
   "name": "python3"
  },
  "language_info": {
   "codemirror_mode": {
    "name": "ipython",
    "version": 3
   },
   "file_extension": ".py",
   "mimetype": "text/x-python",
   "name": "python",
   "nbconvert_exporter": "python",
   "pygments_lexer": "ipython3",
   "version": "3.7.3"
  }
 },
 "nbformat": 4,
 "nbformat_minor": 2
}
