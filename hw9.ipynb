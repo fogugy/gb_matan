{
 "cells": [
  {
   "cell_type": "code",
   "execution_count": 1,
   "metadata": {},
   "outputs": [],
   "source": [
    "from scipy.optimize import fsolve\n",
    "import matplotlib.pyplot as plt\n",
    "import math\n",
    "import numpy as np\n",
    "%matplotlib inline"
   ]
  },
  {
   "cell_type": "markdown",
   "metadata": {},
   "source": [
    "![1](./img/hw9.task1.jpg)\n",
    "![2](./img/hw9.task2.jpg)"
   ]
  },
  {
   "cell_type": "markdown",
   "metadata": {},
   "source": [
    "#### Задание 3:"
   ]
  },
  {
   "cell_type": "code",
   "execution_count": 2,
   "metadata": {},
   "outputs": [
    {
     "name": "stdout",
     "output_type": "stream",
     "text": [
      "1.375687140388597 -0.17475798540737905\n"
     ]
    }
   ],
   "source": [
    "def equations(p):\n",
    "    x, y = p\n",
    "    x2 = x**2\n",
    "    x3 = x**3\n",
    "    y2 = y**2\n",
    "    y3 = y**3\n",
    "    return (x2-y2+3*x*y3-2*x2*y2+2*x-3*y-5, 3*y3-2*x2+2*y*x**3-5*x2*y2+5)\n",
    "\n",
    "x, y =  fsolve(equations, (1, 1))\n",
    "print (x, y)"
   ]
  },
  {
   "cell_type": "markdown",
   "metadata": {},
   "source": [
    "#### Задание 4:"
   ]
  },
  {
   "cell_type": "code",
   "execution_count": 13,
   "metadata": {},
   "outputs": [
    {
     "name": "stdout",
     "output_type": "stream",
     "text": [
      "7\n",
      "{(-1, 0), (-2, 0), (-3, 0), (2, 0), (0, -1), (1, 0), (1, 1)}\n"
     ]
    },
    {
     "name": "stderr",
     "output_type": "stream",
     "text": [
      "c:\\users\\fogug\\python\\gb_matan\\env\\lib\\site-packages\\ipykernel_launcher.py:7: RuntimeWarning: overflow encountered in long_scalars\n",
      "  import sys\n"
     ]
    }
   ],
   "source": [
    "res = set()\n",
    "xstep = 50\n",
    "ystep = 50\n",
    "a = 500\n",
    "\n",
    "for x in np.arange(-a, a, xstep):\n",
    "    for y in np.arange(-a, a, ystep):\n",
    "        x, y = fsolve(equations, (x, y))\n",
    "#         res.add((x, y))\n",
    "        res.add((int(x), int(y)))\n",
    "        \n",
    "print(len(res))\n",
    "print(res)"
   ]
  }
 ],
 "metadata": {
  "kernelspec": {
   "display_name": "Python 3",
   "language": "python",
   "name": "python3"
  },
  "language_info": {
   "codemirror_mode": {
    "name": "ipython",
    "version": 3
   },
   "file_extension": ".py",
   "mimetype": "text/x-python",
   "name": "python",
   "nbconvert_exporter": "python",
   "pygments_lexer": "ipython3",
   "version": "3.7.0"
  }
 },
 "nbformat": 4,
 "nbformat_minor": 2
}
