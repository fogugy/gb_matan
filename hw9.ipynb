{
 "cells": [
  {
   "cell_type": "code",
   "execution_count": 1,
   "metadata": {},
   "outputs": [],
   "source": [
    "from scipy.optimize import fsolve\n",
    "import matplotlib.pyplot as plt\n",
    "import math\n",
    "import numpy as np\n",
    "%matplotlib inline"
   ]
  },
  {
   "cell_type": "markdown",
   "metadata": {},
   "source": [
    "![1](./img/hw9.task1.jpg)\n",
    "![2](./img/hw9.task2.jpg)"
   ]
  },
  {
   "cell_type": "markdown",
   "metadata": {},
   "source": [
    "#### Задание 3:"
   ]
  },
  {
   "cell_type": "code",
   "execution_count": 2,
   "metadata": {},
   "outputs": [],
   "source": [
    "boundary = 10**(-8)\n",
    "\n",
    "def test(x, y):\n",
    "    x2 = x**2\n",
    "    x3 = x**3\n",
    "    y2 = y**2\n",
    "    y3 = y**3\n",
    "    r1 = x2-y2+3*x*y3-2*x2*y2+2*x-3*y-5\n",
    "    r2 = 3*y3-2*x2+2*y*x**3-5*x2*y2+5\n",
    "    if r1 > boundary or r2 > boundary:\n",
    "        return False\n",
    "    return True"
   ]
  },
  {
   "cell_type": "code",
   "execution_count": 3,
   "metadata": {},
   "outputs": [
    {
     "name": "stdout",
     "output_type": "stream",
     "text": [
      "1.375687140388597 -0.17475798540737905\n"
     ]
    }
   ],
   "source": [
    "def equations(p):\n",
    "    x, y = p\n",
    "    x2 = x**2\n",
    "    x3 = x**3\n",
    "    y2 = y**2\n",
    "    y3 = y**3\n",
    "    return (x2-y2+3*x*y3-2*x2*y2+2*x-3*y-5, 3*y3-2*x2+2*y*x**3-5*x2*y2+5)\n",
    "\n",
    "x, y =  fsolve(equations, (1, 1))\n",
    "print (x, y)\n",
    "test(x, y);"
   ]
  },
  {
   "cell_type": "markdown",
   "metadata": {},
   "source": [
    "#### Задание 4:"
   ]
  },
  {
   "cell_type": "code",
   "execution_count": 5,
   "metadata": {
    "scrolled": false
   },
   "outputs": [
    {
     "name": "stdout",
     "output_type": "stream",
     "text": [
      "55\n",
      "{(-0.3355439123, -1.166944047), (-0.3353000339, -1.166986155), (1.2733020645, 1.6620391224), (-0.3358416073, -1.1664054873), (-0.3356215789, -1.1668246594), (-0.3352680155, -1.1670028688), (-0.3352685539, -1.1671836709), (-0.3369655999, -1.1665267972), (2.4943565379, 0.7083175224), (-0.3350685087, -1.1672447831), (-0.3350936372, -1.1673338022), (-0.3362306734, -1.1665596778), (-0.3336811605, -1.1673558003), (-0.3343206367, -1.1674595886), (-0.3350841548, -1.1669676102), (-0.3363991034, -1.1665224119), (-0.3361057925, -1.1669558472), (-0.3351064421, -1.1672837238), (-0.3352795842, -1.1669280971), (-0.3347497313, -1.1670850239), (-0.3353091374, -1.1669717486), (-1.0897930302, -0.9007013291), (-0.3351618438, -1.1670386503), (-1.5506195631, -0.5959594635), (-0.3359040624, -1.1667314327), (-0.3350824723, -1.1671877799), (-0.3359093777, -1.1667188745), (1.5599658404, 1.0726912027), (-0.3367085147, -1.1664524074), (-0.3365140554, -1.1661200698), (-0.3378435336, -1.1659354609), (-0.3350345209, -1.1672015042), (2.2177536388, 0.6101939797), (-0.3358353703, -1.1669048979), (1.3756871403, -0.1747579854), (-0.3346438292, -1.1672014076), (-1.6864364577, -0.5459722442), (-0.3352549988, -1.1670653933), (-3.6530799635, -0.2747634192), (-0.3351573377, -1.1671249629), (-0.3343829264, -1.1671015601), (-0.3275435271, -1.1721090132), (-0.3363258099, -1.1667025445), (-0.3365890712, -1.1669102354), (-0.3355885649, -1.1667772988), (-0.335503179, -1.1669775484), (-0.3341562657, -1.1671992408), (-0.3341162833, -1.1673579684), (-0.3354007701, -1.1668669425), (-0.3352311481, -1.1674362334), (-0.3351373947, -1.1670872464), (-0.3367624963, -1.1661024646), (1.3756871404, -0.1747579853), (-0.3351383868, -1.1670555416), (-0.3356643708, -1.1667150951)}\n"
     ]
    }
   ],
   "source": [
    "res = set()\n",
    "xstep = 20\n",
    "ystep = 20\n",
    "a = 100\n",
    "\n",
    "def round_to(value, digit=10):\n",
    "    return int(value*10**digit)/10**digit\n",
    "\n",
    "for x_v in np.arange(-a, a, xstep):\n",
    "    for y_v in np.arange(-a, a, ystep):\n",
    "        \n",
    "        x, y = fsolve(equations, (x_v, y_v))\n",
    "        x_r, y_r = round_to(x), round_to(y)\n",
    "        \n",
    "        if test(x_r, y_r):\n",
    "            res.add((x_r, y_r))\n",
    "        \n",
    "print(len(res))\n",
    "print(res)"
   ]
  },
  {
   "cell_type": "code",
   "execution_count": null,
   "metadata": {},
   "outputs": [],
   "source": []
  }
 ],
 "metadata": {
  "kernelspec": {
   "display_name": "Python 3",
   "language": "python",
   "name": "python3"
  },
  "language_info": {
   "codemirror_mode": {
    "name": "ipython",
    "version": 3
   },
   "file_extension": ".py",
   "mimetype": "text/x-python",
   "name": "python",
   "nbconvert_exporter": "python",
   "pygments_lexer": "ipython3",
   "version": "3.7.3"
  }
 },
 "nbformat": 4,
 "nbformat_minor": 2
}
