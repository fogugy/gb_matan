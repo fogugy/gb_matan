{
 "cells": [
  {
   "cell_type": "markdown",
   "metadata": {},
   "source": [
    "#### Задание 1:\n",
    "Предложить пример функции, не имеющей предела в нуле и в бесконечностях."
   ]
  },
  {
   "cell_type": "markdown",
   "metadata": {},
   "source": [
    "![4.1.1](./img/hw4.1.task1.jpg)"
   ]
  },
  {
   "cell_type": "markdown",
   "metadata": {},
   "source": [
    "#### Задание 2:\n",
    "Привести пример функции, не имеющей предела в точке, но определенной в ней.\n",
    "\n",
    "f(x) = sin(x)"
   ]
  },
  {
   "cell_type": "markdown",
   "metadata": {},
   "source": [
    "#### Задание 3:\n",
    "Исследовать функцию f(x)=x^3-x^2"
   ]
  },
  {
   "cell_type": "markdown",
   "metadata": {},
   "source": [
    "##### Область задания и область значений\n",
    " dom(X) = R\n",
    " ran(x) = R"
   ]
  },
  {
   "cell_type": "markdown",
   "metadata": {},
   "source": [
    "##### Нули функции и их кратность\n",
    "\n",
    "(x^3-x^2) => (x-1)*x^2\n",
    "\n",
    "1 - корень кратности 1\n",
    "\n",
    "0 - корень кратности 2"
   ]
  },
  {
   "cell_type": "markdown",
   "metadata": {},
   "source": [
    "##### Отрезки знакопостоянства"
   ]
  },
  {
   "cell_type": "code",
   "execution_count": 4,
   "metadata": {},
   "outputs": [],
   "source": [
    "import numpy as np\n",
    "import matplotlib.pyplot as plt\n",
    "%matplotlib inline"
   ]
  },
  {
   "cell_type": "code",
   "execution_count": 5,
   "metadata": {},
   "outputs": [
    {
     "data": {
      "image/png": "[encoded data removed]",
      "text/plain": [
       "<Figure size 432x288 with 1 Axes>"
      ]
     },
     "metadata": {
      "needs_background": "light"
     },
     "output_type": "display_data"
    }
   ],
   "source": [
    "X = np.arange(-1, 1.5, 10**(-5))\n",
    "Y = (X-1)*X**2\n",
    "plt.plot(X, Y)\n",
    "plt.grid(True);"
   ]
  },
  {
   "cell_type": "markdown",
   "metadata": {},
   "source": [
    "минус на отрезках (-oo,0], [0, 1]\n",
    "\n",
    "плюс на отрезке [1, +oo)"
   ]
  },
  {
   "cell_type": "markdown",
   "metadata": {},
   "source": [
    "##### Интервалы монотонности"
   ]
  },
  {
   "cell_type": "markdown",
   "metadata": {},
   "source": [
    "y' = 3x^2 - 2x\n",
    "\n",
    "0 = 3x^2 - 2x\n",
    "\n",
    "т.о. точки x = 0 и x = 2/3 - локальные максимум и минимум на отрезке [-1, 1]\n",
    "\n",
    "Ф-ция строго возрастает на (-oo, 0] и [2/3, +oo)\n",
    "\n",
    "Ф-ция строго убывает на [0, 2/3]"
   ]
  },
  {
   "cell_type": "markdown",
   "metadata": {},
   "source": [
    "##### Четность функции"
   ]
  },
  {
   "cell_type": "markdown",
   "metadata": {},
   "source": [
    "Из графика видно, что функция не является ни четной ни нечетной - функция аморфна"
   ]
  },
  {
   "cell_type": "markdown",
   "metadata": {},
   "source": [
    "##### Ограниченность\n",
    "\n",
    "функция не ограничена"
   ]
  },
  {
   "cell_type": "markdown",
   "metadata": {},
   "source": [
    "##### Периодичность\n",
    "\n",
    "Функция не периодична"
   ]
  }
 ],
 "metadata": {
  "kernelspec": {
   "display_name": "Python 3",
   "language": "python",
   "name": "python3"
  },
  "language_info": {
   "codemirror_mode": {
    "name": "ipython",
    "version": 3
   },
   "file_extension": ".py",
   "mimetype": "text/x-python",
   "name": "python",
   "nbconvert_exporter": "python",
   "pygments_lexer": "ipython3",
   "version": "3.7.3"
  }
 },
 "nbformat": 4,
 "nbformat_minor": 2
}
