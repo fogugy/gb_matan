{
 "cells": [
  {
   "cell_type": "markdown",
   "metadata": {},
   "source": [
    "![1](./img/hw8.task1.jpg)\n",
    "![2](./img/hw8.task2.jpg)\n",
    "![3](./img/hw8.task3.jpg)\n",
    "![4](./img/hw8.task4.jpg)\n",
    "![5](./img/hw8.task5.jpg)\n",
    "![6](./img/hw8.task6.jpg)\n",
    "\n",
    "\n",
    "### [Task 6 Wolfram](https://bit.ly/2Ls1VxJ)\n",
    "\n",
    "![7](./img/hw8.task7.jpg)\n",
    "\n",
    "\n",
    "### [Task 7 Wolfram](https://bit.ly/2xKUUPs)"
   ]
  },
  {
   "cell_type": "code",
   "execution_count": null,
   "metadata": {},
   "outputs": [],
   "source": [
    "# https://www.wolframalpha.com/input/?i=plot3d+y*x%5E2+%2B+(y%5E3)%2F3+%2B+2*x%5E2+%2B+3*y%5E2+-+1+from+x%3D-2*2%5E(1%2F2)+to+2*2%5E(1%2F2)+and+y+%3D+-8+to+2\n",
    "# https://www.wolframalpha.com/input/?i=plot3d+(x%5E2+%2B+y%5E2)*exp(-x%2F2)+from+x%3D-1+to+10+and+y+%3D+-3+to+3"
   ]
  }
 ],
 "metadata": {
  "kernelspec": {
   "display_name": "Python 3",
   "language": "python",
   "name": "python3"
  },
  "language_info": {
   "codemirror_mode": {
    "name": "ipython",
    "version": 3
   },
   "file_extension": ".py",
   "mimetype": "text/x-python",
   "name": "python",
   "nbconvert_exporter": "python",
   "pygments_lexer": "ipython3",
   "version": "3.7.3"
  }
 },
 "nbformat": 4,
 "nbformat_minor": 2
}
