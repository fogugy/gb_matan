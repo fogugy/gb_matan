{
 "cells": [
  {
   "cell_type": "markdown",
   "metadata": {},
   "source": [
    "![1](./img/hw7.task1.jpg)\n",
    "![2](./img/hw7.task2.jpg)\n",
    "![3](./img/hw7.task3.jpg)\n",
    "![4](./img/hw7.task4.jpg)\n",
    "![5](./img/hw7.task5.jpg)\n",
    "![6](./img/hw7.task6.jpg)\n",
    "![7](./img/hw7.task7.jpg)\n",
    "![8](./img/hw7.task8.jpg)\n",
    "![9](./img/hw7.task9.jpg)\n",
    "![10](./img/hw7.task10.jpg)\n",
    "![11](./img/hw7.task11.jpg)\n",
    "![12](./img/hw7.task12.jpg)\n",
    "![13](./img/hw7.task13.jpg)"
   ]
  }
 ],
 "metadata": {
  "kernelspec": {
   "display_name": "Python 3",
   "language": "python",
   "name": "python3"
  },
  "language_info": {
   "codemirror_mode": {
    "name": "ipython",
    "version": 3
   },
   "file_extension": ".py",
   "mimetype": "text/x-python",
   "name": "python",
   "nbconvert_exporter": "python",
   "pygments_lexer": "ipython3",
   "version": "3.7.3"
  }
 },
 "nbformat": 4,
 "nbformat_minor": 2
}
